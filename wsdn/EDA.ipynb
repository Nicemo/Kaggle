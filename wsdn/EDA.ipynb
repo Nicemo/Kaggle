{
 "cells": [
  {
   "cell_type": "markdown",
   "metadata": {},
   "source": [
    "# WSDM-EDA Basing on Songs"
   ]
  },
  {
   "cell_type": "code",
   "execution_count": 1,
   "metadata": {},
   "outputs": [],
   "source": [
    "import numpy as np\n",
    "import pandas as pd\n",
    "import matplotlib.pyplot as plt\n",
    "import seaborn as sns\n",
    "from subprocess import check_output\n",
    "%matplotlib inline"
   ]
  },
  {
   "cell_type": "code",
   "execution_count": 2,
   "metadata": {
    "scrolled": true
   },
   "outputs": [
    {
     "name": "stdout",
     "output_type": "stream",
     "text": [
      "members.csv\n",
      "mytrain.csv\n",
      "mytrain_sample.csv\n",
      "myvalid.csv\n",
      "sample_submission.csv\n",
      "song_extra_info.csv\n",
      "songs.csv\n",
      "submission_lgbm_avg.csv.gz\n",
      "test.csv\n",
      "train.csv\n",
      "\n"
     ]
    }
   ],
   "source": [
    "print(check_output([\"ls\", \"/home/huangcr/Kaggle/wsdm/data\"]).decode(\"utf8\"))"
   ]
  },
  {
   "cell_type": "code",
   "execution_count": 3,
   "metadata": {
    "collapsed": true
   },
   "outputs": [],
   "source": [
    "train = pd.read_csv('../data/train.csv')\n",
    "songs = pd.read_csv('../data/songs.csv')\n",
    "test = pd.read_csv('../data/test.csv')"
   ]
  },
  {
   "cell_type": "markdown",
   "metadata": {},
   "source": [
    "## 训练集 测试集 分析\n"
   ]
  },
  {
   "cell_type": "code",
   "execution_count": 4,
   "metadata": {},
   "outputs": [
    {
     "name": "stdout",
     "output_type": "stream",
     "text": [
      "Index(['msno', 'song_id', 'source_system_tab', 'source_screen_name',\n",
      "       'source_type', 'target'],\n",
      "      dtype='object')\n"
     ]
    },
    {
     "data": {
      "text/plain": [
       "Index(['song_id', 'song_length', 'genre_ids', 'artist_name', 'composer',\n",
       "       'lyricist', 'language'],\n",
       "      dtype='object')"
      ]
     },
     "execution_count": 4,
     "metadata": {},
     "output_type": "execute_result"
    }
   ],
   "source": [
    "print(train.columns)\n",
    "songs.columns"
   ]
  },
  {
   "cell_type": "code",
   "execution_count": 5,
   "metadata": {},
   "outputs": [
    {
     "name": "stdout",
     "output_type": "stream",
     "text": [
      "歌曲分析: \n",
      "359966 224753\n",
      "59873\n",
      "0.2663946643648806\n",
      "用户分析: \n",
      "30755 25131\n",
      "3648\n",
      "0.14515936492777845\n",
      "作者分析: \n",
      "40582 27563\n",
      "5790\n",
      "0.21006421652214927\n",
      "语言分析: \n",
      "10 10\n",
      "0\n",
      "0.0\n",
      "风格分析: \n",
      "572 501\n",
      "35\n",
      "0.06986027944111776\n"
     ]
    }
   ],
   "source": [
    "print('歌曲分析: ')\n",
    "songs_in_train_and_test = np.intersect1d(train['song_id'].unique(), test['song_id'].unique())\n",
    "print(train['song_id'].nunique(), test['song_id'].nunique())\n",
    "print((test['song_id'].nunique() - songs_in_train_and_test.shape[0]))\n",
    "print((test['song_id'].nunique() - songs_in_train_and_test.shape[0]) / test['song_id'].nunique())\n",
    "\n",
    "print('用户分析: ')\n",
    "users_in_train_and_test = np.intersect1d(train['msno'].unique(), test['msno'].unique())\n",
    "print(train['msno'].nunique(), test['msno'].nunique())\n",
    "print((test['msno'].nunique() - users_in_train_and_test.shape[0]))\n",
    "print((test['msno'].nunique() - users_in_train_and_test.shape[0]) / test['msno'].nunique())\n",
    "\n",
    "train_merged = train.merge(songs[['song_id', 'artist_name', 'genre_ids',\n",
    "                                       'language']], on='song_id')\n",
    "test_merged = test.merge(songs[['song_id', 'artist_name', 'genre_ids',\n",
    "                                     'language']], on='song_id')\n",
    "\n",
    "print('作者分析: ')\n",
    "artists_in_train_and_test = np.intersect1d(train_merged['artist_name'].unique(),\n",
    "                                           test_merged['artist_name'].unique())\n",
    "print(train_merged['artist_name'].nunique(), test_merged['artist_name'].nunique())\n",
    "print((test_merged['artist_name'].nunique() - artists_in_train_and_test.shape[0]))\n",
    "print((test_merged['artist_name'].nunique()\n",
    "       - artists_in_train_and_test.shape[0]) / test_merged['artist_name'].nunique())\n",
    "\n",
    "print('语言分析: ')\n",
    "langs_in_train_and_test = np.intersect1d(train_merged['language'].unique(),\n",
    "                                          test_merged['language'].unique())\n",
    "print(train_merged['language'].nunique(), test_merged['language'].nunique())\n",
    "print((test_merged['language'].nunique() - langs_in_train_and_test.shape[0]))\n",
    "print((test_merged['language'].nunique()\n",
    "       - langs_in_train_and_test.shape[0]) / test_merged['language'].nunique())\n",
    "\n",
    "print('风格分析: ')\n",
    "genres_in_train_and_test = np.intersect1d(train_merged['genre_ids'].apply(str).unique(),\n",
    "                                          test_merged['genre_ids'].apply(str).unique())\n",
    "print(train_merged['genre_ids'].nunique(), test_merged['genre_ids'].nunique())\n",
    "print((test_merged['genre_ids'].nunique() - genres_in_train_and_test.shape[0]))\n",
    "print((test_merged['genre_ids'].nunique()\n",
    "       - genres_in_train_and_test.shape[0]) / test_merged['genre_ids'].nunique())"
   ]
  },
  {
   "cell_type": "markdown",
   "metadata": {},
   "source": [
    "- 训练集中359966首歌，测试集中224753首歌曲，其中测试集中26.6%的歌曲未在训练集中出现\n",
    "- 用户有类似情况，测试集有14.5%用户未出现在训练集\n",
    "- 语言 和 风格 基本相同"
   ]
  },
  {
   "cell_type": "markdown",
   "metadata": {},
   "source": [
    "## 歌曲分析"
   ]
  },
  {
   "cell_type": "markdown",
   "metadata": {},
   "source": [
    "### 播放次数"
   ]
  },
  {
   "cell_type": "code",
   "execution_count": 6,
   "metadata": {},
   "outputs": [],
   "source": [
    "listen = train[['song_id','msno','target']].merge(songs, on = 'song_id')\n",
    "listen_groupby = listen[['song_id','target']].groupby(['song_id']).agg(['mean','count'])\n",
    "\n",
    "listen_groupby.reset_index(inplace=True)\n",
    "listen_groupby.columns = list(map(''.join, listen_groupby.columns.values))\n",
    "listen_groupby.columns = ['song_id', 'repeat_play_chance', 'plays']  #rename columns\n",
    "\n",
    "song_data = listen_groupby.merge(songs, on='song_id') # merge song data with computed values\n",
    "\n",
    "song_data['repeat_events'] = song_data['repeat_play_chance'] * song_data['plays']"
   ]
  },
  {
   "cell_type": "code",
   "execution_count": 7,
   "metadata": {},
   "outputs": [
    {
     "data": {
      "text/plain": [
       "13973"
      ]
     },
     "execution_count": 7,
     "metadata": {},
     "output_type": "execute_result"
    }
   ],
   "source": [
    "song_data['plays'].max()"
   ]
  },
  {
   "cell_type": "markdown",
   "metadata": {},
   "source": [
    "- 其中被成功播放最多次的歌曲，其次数为13973"
   ]
  },
  {
   "cell_type": "code",
   "execution_count": 8,
   "metadata": {},
   "outputs": [
    {
     "data": {
      "text/plain": [
       "[<matplotlib.lines.Line2D at 0x7f54dfd102b0>]"
      ]
     },
     "execution_count": 8,
     "metadata": {},
     "output_type": "execute_result"
    },
    {
     "data": {
      "image/png": "[encoded data removed]",
      "text/plain": [
       "<matplotlib.figure.Figure at 0x7f54dfde2e48>"
      ]
     },
     "metadata": {},
     "output_type": "display_data"
    }
   ],
   "source": [
    "x_plays = []\n",
    "y_repeat_chance = []\n",
    "\n",
    "for i in range(1,song_data['plays'].max()+1):\n",
    "    plays_i = song_data[song_data['plays']==i]\n",
    "    count = plays_i['plays'].sum()\n",
    "    if count > 0:\n",
    "        x_plays.append(i)\n",
    "        y_repeat_chance.append(plays_i['repeat_events'].sum() / count)\n",
    "\n",
    "plt.figure(figsize=(15,8))      \n",
    "plt.xlabel('Number of song plays')  #歌曲播放次数\n",
    "plt.ylabel('Chance of repeat listens') #歌曲重复播放概率\n",
    "plt.plot(x_plays, y_repeat_chance)\n",
    "\n"
   ]
  },
  {
   "cell_type": "markdown",
   "metadata": {},
   "source": [
    "- 显而易见， 播放次数与歌曲重复播放概率相关性大。 其次 噪音也很大。"
   ]
  },
  {
   "cell_type": "markdown",
   "metadata": {},
   "source": [
    "### 风格、lyr、composer"
   ]
  },
  {
   "cell_type": "code",
   "execution_count": 9,
   "metadata": {},
   "outputs": [
    {
     "name": "stdout",
     "output_type": "stream",
     "text": [
      "8 51 23\n"
     ]
    }
   ],
   "source": [
    "def count_vals(x):\n",
    "    # count number of values (since we can have mutliple values separated by '|')\n",
    "    if type(x) != str:\n",
    "        return 1\n",
    "    else:\n",
    "        return 1 + x.count('|')\n",
    "    \n",
    "# 统计 genres, composers, lyricsts\n",
    "song_data['number_of_genres'] = song_data['genre_ids'].apply(count_vals)\n",
    "song_data['number_of_composers'] = song_data['composer'].apply(count_vals)\n",
    "song_data['number_of_lyricists'] = song_data['lyricist'].apply(count_vals)\n",
    "\n",
    "n_genres_max = song_data['number_of_genres'].max()\n",
    "n_composers_max = song_data['number_of_composers'].max()\n",
    "n_lyricists_max = song_data['number_of_lyricists'].max()\n",
    "\n",
    "print(n_genres_max, n_composers_max, n_lyricists_max)"
   ]
  },
  {
   "cell_type": "markdown",
   "metadata": {},
   "source": [
    "- composers 和 lyricists 明显反常"
   ]
  },
  {
   "cell_type": "code",
   "execution_count": 10,
   "metadata": {},
   "outputs": [
    {
     "name": "stdout",
     "output_type": "stream",
     "text": [
      "artist_name                                                       SHINee\n",
      "composer               Korean Lyrics by Kim| Jong Hyun (12.5%) Harvey...\n",
      "lyricist                          Andreas \"Quiz\" Romdhane| Savan Kotecha\n",
      "number_of_composers                                                   51\n",
      "number_of_lyricists                                                    2\n",
      "Name: 309485, dtype: object \n",
      "\n",
      "artist_name                                                       Coolio\n",
      "composer               A. Ivey| A. Jones| Bar-keys| C. Allen| C. Fran...\n",
      "lyricist               A. Ivey| A. Jones| Bar-keys| C. Allen| C. Fran...\n",
      "number_of_composers                                                   23\n",
      "number_of_lyricists                                                   23\n",
      "Name: 106071, dtype: object\n"
     ]
    }
   ],
   "source": [
    "max_comp_song = song_data.iloc[song_data['number_of_composers'].idxmax()]\n",
    "max_lyr_song = song_data.iloc[song_data['number_of_lyricists'].idxmax()]\n",
    "\n",
    "print(max_comp_song[['artist_name', 'composer', 'lyricist', 'number_of_composers',\n",
    "                     'number_of_lyricists']], '\\n')\n",
    "print(max_lyr_song[['artist_name', 'composer', 'lyricist', 'number_of_composers',\n",
    "                    'number_of_lyricists']])"
   ]
  },
  {
   "cell_type": "code",
   "execution_count": 11,
   "metadata": {},
   "outputs": [],
   "source": [
    "x_genres = list(range(1,n_genres_max+1))\n",
    "x_composers = list(range(1,n_composers_max+1))\n",
    "x_lyricists = list(range(1,n_lyricists_max+1))\n",
    "\n",
    "y_genres = [song_data[song_data['number_of_genres'] == x].shape[0] for x in x_genres]\n",
    "y_composers = [song_data[song_data['number_of_composers'] == x].shape[0] for x in x_composers]\n",
    "y_lyricists = [song_data[song_data['number_of_lyricists'] == x].shape[0] for x in x_lyricists]"
   ]
  },
  {
   "cell_type": "code",
   "execution_count": null,
   "metadata": {},
   "outputs": [],
   "source": [
    "# 处理0值 和 NA\n",
    "empty_ids = [i for i, y in enumerate(y_composers) if y == 0]\n",
    "x_composers_fixed = [x_composers[i] for i in range(0,n_composers_max) if i not in empty_ids]\n",
    "y_composers_fixed = [y_composers[i-1] for i in x_composers_fixed]\n",
    "\n",
    "empty_ids = [i for i, y in enumerate(y_lyricists) if y == 0]\n",
    "x_lyricists_fixed = [x_lyricists[i] for i in range(0,n_lyricists_max) if i not in empty_ids]\n",
    "y_lyricists_fixed = [y_lyricists[i-1] for i in x_lyricists_fixed]\n",
    "\n",
    "\n",
    "y_repeat_chance_g = []\n",
    "y_plays_g = []\n",
    "\n",
    "for i in range(1,n_genres_max+1):\n",
    "    genres_i = song_data[song_data['number_of_genres']==i]\n",
    "    count = genres_i['plays'].sum()\n",
    "    y_repeat_chance_g.append(genres_i['repeat_events'].sum() / count)\n",
    "    y_plays_g.append(count)\n",
    "    \n",
    "y_repeat_chance_c = []\n",
    "y_plays_c = []\n",
    "\n",
    "for i in x_composers_fixed:\n",
    "    composers_i = song_data[song_data['number_of_composers']==i]\n",
    "    count = composers_i['plays'].sum()\n",
    "    y_repeat_chance_c.append(composers_i['repeat_events'].sum() / count)\n",
    "    y_plays_c.append(count)\n",
    "    \n",
    "y_repeat_chance_l = []\n",
    "y_plays_l = []\n",
    "\n",
    "for i in x_lyricists_fixed:\n",
    "    lyricists_i = song_data[song_data['number_of_lyricists']==i]\n",
    "    count = lyricists_i['plays'].sum()\n",
    "    y_repeat_chance_l.append(lyricists_i['repeat_events'].sum() / count)\n",
    "    y_plays_l.append(count)"
   ]
  },
  {
   "cell_type": "code",
   "execution_count": null,
   "metadata": {},
   "outputs": [
    {
     "data": {
      "text/plain": [
       "<matplotlib.text.Text at 0x7f54df39d9b0>"
      ]
     },
     "execution_count": 13,
     "metadata": {},
     "output_type": "execute_result"
    }
   ],
   "source": [
    "fig = plt.figure(figsize=(15, 18)) \n",
    "\n",
    "ax331 = plt.subplot(3,3,1)\n",
    "sns.barplot(x=x_genres,y=np.log10(y_genres))\n",
    "ax331.set_ylabel('log10(# of songs)')\n",
    "ax334 = plt.subplot(3,3,4)\n",
    "sns.barplot(x=x_genres,y=np.log10(y_plays_g))\n",
    "ax334.set_ylabel('log10(# of plays)')\n",
    "ax337 = plt.subplot(3,3,7)\n",
    "sns.barplot(x=x_genres,y=y_repeat_chance_g)\n",
    "ax337.set_xlabel('# of genres')\n",
    "ax337.set_ylabel('chance of repeated listen')\n",
    "\n",
    "plt.subplot(3,3,2)\n",
    "sns.barplot(x=x_composers_fixed,y=np.log10(y_composers_fixed))\n",
    "plt.subplot(3,3,5)\n",
    "sns.barplot(x=x_composers_fixed,y=np.log10(y_plays_c))\n",
    "ax338 = plt.subplot(3,3,8)\n",
    "sns.barplot(x=x_composers_fixed,y=y_repeat_chance_c)\n",
    "ax338.set_xlabel('# of composers')\n",
    "\n",
    "\n",
    "plt.subplot(3,3,3)\n",
    "sns.barplot(x=x_lyricists_fixed,y=np.log10(y_lyricists_fixed))\n",
    "plt.subplot(3,3,6)\n",
    "sns.barplot(x=x_lyricists_fixed,y=np.log10(y_plays_l))\n",
    "ax339 = plt.subplot(3,3,9)\n",
    "sns.barplot(x=x_lyricists_fixed,y=y_repeat_chance_l)\n",
    "ax339.set_xlabel('# of lyricists')"
   ]
  },
  {
   "cell_type": "markdown",
   "metadata": {
    "collapsed": true
   },
   "source": [
    "- Composer 和 lyricists 的数量 无影响。 而Genres的数量有一些相关性"
   ]
  },
  {
   "cell_type": "markdown",
   "metadata": {},
   "source": [
    "### 语言"
   ]
  },
  {
   "cell_type": "code",
   "execution_count": null,
   "metadata": {},
   "outputs": [],
   "source": [
    "languages = song_data['language'].unique()\n",
    "print(languages.shape[0])\n",
    "\n",
    "language_count = []\n",
    "language_plays = []\n",
    "language_repeat_chance = []\n",
    "\n",
    "for l in languages:\n",
    "    if not np.isnan(l):\n",
    "        songs_with_language = song_data[song_data['language']==l]\n",
    "        count = songs_with_language['plays'].sum()\n",
    "        language_repeat_chance.append(songs_with_language['repeat_events'].sum() / count)\n",
    "        language_count.append(songs_with_language.shape[0])\n",
    "        language_plays.append(count)\n",
    "    else:\n",
    "        songs_with_language = song_data[pd.isnull(song_data['language'])]\n",
    "        count = songs_with_language['plays'].sum()\n",
    "        language_repeat_chance.append(songs_with_language['repeat_events'].sum() / count)\n",
    "        language_count.append(songs_with_language.shape[0])\n",
    "        language_plays.append(count)\n",
    "        \n",
    "languages[10] = -100  # 填充NA值"
   ]
  },
  {
   "cell_type": "code",
   "execution_count": null,
   "metadata": {},
   "outputs": [],
   "source": [
    "fig = plt.figure(figsize=(15, 18)) \n",
    "\n",
    "ax1 = plt.subplot(3,1,1)\n",
    "sns.barplot(x=languages,y=np.log10(language_count))\n",
    "ax1.set_ylabel('log10(# of songs)')\n",
    "ax2 = plt.subplot(3,1,2)\n",
    "sns.barplot(x=languages,y=np.log10(language_plays))\n",
    "ax2.set_ylabel('log10(# of plays)')\n",
    "ax3 = plt.subplot(3,1,3)\n",
    "sns.barplot(x=languages,y=language_repeat_chance)\n",
    "ax3.set_ylabel('Chance of repeated listen')\n",
    "ax3.set_xlabel('Song language')"
   ]
  },
  {
   "cell_type": "markdown",
   "metadata": {},
   "source": [
    "-1 17 45 语言重复率更低"
   ]
  },
  {
   "cell_type": "markdown",
   "metadata": {},
   "source": [
    "## 歌曲时间"
   ]
  },
  {
   "cell_type": "code",
   "execution_count": null,
   "metadata": {},
   "outputs": [],
   "source": [
    "min_song_length_sec = song_data['song_length'].min() / 1000  \n",
    "max_song_length_sec = song_data['song_length'].max() / 1000\n",
    "print(min_song_length_sec, max_song_length_sec)"
   ]
  },
  {
   "cell_type": "markdown",
   "metadata": {},
   "source": [
    "1秒歌 和 三小时歌=，="
   ]
  },
  {
   "cell_type": "code",
   "execution_count": null,
   "metadata": {},
   "outputs": [],
   "source": [
    "min_length_song = song_data.iloc[song_data['song_length'].idxmin()]\n",
    "max_length_song = song_data.iloc[song_data['song_length'].idxmax()]\n",
    "\n",
    "print(min_length_song[['artist_name', 'composer', 'lyricist', 'number_of_composers',\n",
    "                       'number_of_lyricists', 'song_length', 'repeat_play_chance']], '\\n')\n",
    "print(max_length_song[['artist_name', 'composer', 'lyricist', 'number_of_composers',\n",
    "                       'number_of_lyricists', 'song_length', 'repeat_play_chance']])"
   ]
  },
  {
   "cell_type": "code",
   "execution_count": null,
   "metadata": {},
   "outputs": [],
   "source": [
    "plt.figure(figsize=(15,8))\n",
    "length_bins = np.logspace(np.log10(min_song_length_sec),np.log10(max_song_length_sec+1),100)\n",
    "sns.distplot(song_data['song_length']/1000, bins=length_bins, kde=False,\n",
    "             hist_kws={\"alpha\": 1})\n",
    "plt.xlabel('song length, s')\n",
    "plt.ylabel('# of songs')\n",
    "plt.yscale('log')\n",
    "plt.xscale('log')"
   ]
  },
  {
   "cell_type": "code",
   "execution_count": null,
   "metadata": {},
   "outputs": [],
   "source": [
    "time_labels = list(range(length_bins.shape[0]-1))\n",
    "song_data['time_cuts'] = pd.cut(song_data['song_length']/1000,\n",
    "                                bins=length_bins, labels=time_labels)\n",
    "\n",
    "y_repeat_chance_tc = []\n",
    "y_plays_tc = []\n",
    "y_rel_plays = []\n",
    "for i in time_labels:\n",
    "    timecut_i = song_data[song_data['time_cuts']==i]\n",
    "    count = timecut_i['plays'].sum()\n",
    "    y_plays_tc.append(count)\n",
    "    if count != 0:\n",
    "        y_repeat_chance_tc.append(timecut_i['repeat_events'].sum() / count)\n",
    "        y_rel_plays.append(count / timecut_i.shape[0])\n",
    "    else:\n",
    "        y_repeat_chance_tc.append(0)\n",
    "        y_rel_plays.append(0)\n",
    "    \n",
    "fig = plt.figure(figsize=(15, 16)) \n",
    "\n",
    "y_plays_tc = [yptc + 1 for yptc in y_plays_tc]  # otherwise we'll get errors when we take the log\n",
    "\n",
    "ax211 = plt.subplot(2,1,1)\n",
    "sns.barplot(x=length_bins[time_labels],y=np.log10(y_plays_tc))\n",
    "ax211.set_ylabel('log10(# of plays)')\n",
    "\n",
    "ax212 = plt.subplot(2,1,2)\n",
    "sns.barplot(x=length_bins[time_labels],y=y_repeat_chance_tc)\n",
    "ax212.set_ylabel('Chance of repeated listen')"
   ]
  },
  {
   "cell_type": "markdown",
   "metadata": {},
   "source": [
    "## 歌手分析"
   ]
  },
  {
   "cell_type": "code",
   "execution_count": null,
   "metadata": {},
   "outputs": [],
   "source": [
    "artist_replgroupby = song_data[['artist_name', 'plays', 'repeat_events']].groupby(['artist_name'])\n",
    "artist_replgroupby = artist_replgroupby['plays', 'repeat_events'].agg(['sum', 'count'])\n",
    "artist_replgroupby.reset_index(inplace=True)\n",
    "artist_replgroupby.columns = list(map(''.join, artist_replgroupby.columns.values))\n",
    "artist_replgroupby.drop(['repeat_eventscount'], axis=1, inplace=True)\n",
    "artist_replgroupby.columns = ['artist', 'plays', 'tracks', 'repeat_events']\n",
    "artist_replgroupby['repeat_play_chance'] = artist_replgroupby['repeat_events'] / artist_replgroupby['plays']\n",
    "\n",
    "play_bins = np.logspace(-0.01, np.log10(artist_replgroupby['plays'].max()), 100)\n",
    "play_labels = list(range(play_bins.shape[0]-1))\n",
    "artist_replgroupby['play_cuts'] = pd.cut(artist_replgroupby['plays'],\n",
    "                                         bins=play_bins, labels=play_labels)\n",
    "\n",
    "y_repeat_chance_p = []\n",
    "y_plays_p = []\n",
    "for i in play_labels:\n",
    "    playcut_i = artist_replgroupby[artist_replgroupby['play_cuts']==i]\n",
    "    count = artist_replgroupby['plays'].sum()\n",
    "    y_plays_p.append(count)\n",
    "    if count != 0:\n",
    "        y_repeat_chance_p.append(playcut_i['repeat_events'].sum() / count)\n",
    "    else:\n",
    "        y_repeat_chance_p.append(0)\n",
    "    \n",
    "fig = plt.figure(figsize=(15, 16)) \n",
    "\n",
    "ax111 = plt.subplot(1,1,1)\n",
    "sns.barplot(x=play_bins[play_labels],y=y_repeat_chance_p)\n",
    "ax111.set_xlabel('log10(# of plays)')\n",
    "ax111.set_ylabel('Chance of repeated listen')"
   ]
  },
  {
   "cell_type": "code",
   "execution_count": null,
   "metadata": {},
   "outputs": [],
   "source": [
    "plt.figure(figsize=(15,8))\n",
    "chance_bins = np.linspace(0,1,100)\n",
    "sns.distplot(artist_replgroupby['repeat_play_chance'], bins=chance_bins, kde=False,\n",
    "             hist_kws={\"alpha\": 1})\n",
    "plt.xlabel('Chance of repeated listens')\n",
    "plt.ylabel('# of artists')\n",
    "plt.yscale('log')\n",
    "# plt.xscale('log')"
   ]
  },
  {
   "cell_type": "markdown",
   "metadata": {},
   "source": [
    "播放次数越多的，其重复播放的概率更大"
   ]
  },
  {
   "cell_type": "markdown",
   "metadata": {},
   "source": [
    "## 总结\n",
    "\n",
    "以下特征可能有效：\n",
    "- 1. 歌曲风格数量\n",
    "- 2. composer 和 lyricsts 数量\n",
    "- 3. 歌曲被播放数量\n",
    "- 4. 歌手歌曲被播放总量\n",
    "- 5. 歌曲长度"
   ]
  }
 ],
 "metadata": {
  "kernelspec": {
   "display_name": "Python 3",
   "language": "python",
   "name": "python3"
  },
  "language_info": {
   "codemirror_mode": {
    "name": "ipython",
    "version": 3
   },
   "file_extension": ".py",
   "mimetype": "text/x-python",
   "name": "python",
   "nbconvert_exporter": "python",
   "pygments_lexer": "ipython3",
   "version": "3.6.2"
  }
 },
 "nbformat": 4,
 "nbformat_minor": 2
}
